{
  "nbformat": 4,
  "nbformat_minor": 0,
  "metadata": {
    "colab": {
      "provenance": []
    },
    "kernelspec": {
      "name": "python3",
      "display_name": "Python 3"
    },
    "language_info": {
      "name": "python"
    }
  },
  "cells": [
    {
      "cell_type": "markdown",
      "source": [
        "# **Uygulama Sınav Yönergesi**\n",
        "\n",
        "*   ilk 5 soru 10 puan olup, son iki soru 25'er puandır.\n",
        "*   **Lütfen soruları bireysel çözünüz**, haliyle işin içerisinde algoritma olduğu için her sorunun birden fazla çözüm yolu bulunmaktadır. Nasıl yorumlayacağınız ve senaryoları nasıl kurgulayacağınız tamamen size aittir.\n",
        "*   Lütfen soruları cevaplamak için soruların altındaki hücreleri kullanınız, hücrelere ekleme veya çıkartma işlemi yapabilirsiniz. Hücre altlarındaki ekran çıktılarına dikkat ediniz, size uygulamanın akışı hakkında yardımcı olacaktır. Bazı sorular senaryo gereği temel programlama kodları olan **if, for ve listeleme** gibi yapılara sahip olacaktır.\n",
        "*   Son iki soruyu notebook üzerinde çözümünü yaptıktan sonra lütfen birebir olacak şekilde A4 kağıdında da çözünüz ve sınav gün ve saatinde bu kağıdı teslim etmeye geliniz. Sınav yoklama listesine imzanızı atmayı unutmayınız. Kağıda isminiz, soyisminiz ve öğrenci numaranızı yazmayı unutmayınız.\n",
        "*   **Yoklama listesine imza atmayan kişi, uygulamayı sisteme yüklemiş olsa dahi sınavı geçersiz sayılacaktır.**\n",
        "*   **IPYNB** notebook'unu sisteme yüklerken lütfen **isim-soyisim-ogrencino.ipynb** şeklinde isimlendiriniz.\n",
        "*   Ödevi sisteme yüklemek için son teslim tarihi 11.11.2024 23:59'dur Sınav süresi bittiğinde, sistemde dosya yükleme işlemi kapatılacak olup sistem haricinde    hiç bir şekilde\n",
        "başka bir platformdan dosyalar kabul edilmeyecektir.\n",
        "*   Sınav süresi boyunca aklınıza takılan soruları arşivlenmesi amacıyla teams yoluyla kabul edeceğim :\n",
        "sevdanur.genc@balikesir.edu.tr . Harici iletişim kanallarından gelen sorular kabul edilmeyecek ve\n",
        "herhangi bir geri dönüş yapılmayacaktır.\n",
        "\n",
        "Başarılar dilerim.  \n",
        "Dr. Öğr. Üyesi Sevdanur GENÇ\n",
        "\n",
        "\n",
        "\n",
        "\n"
      ],
      "metadata": {
        "id": "DEUgSjc2llc5"
      }
    },
    {
      "cell_type": "markdown",
      "source": [
        "**Soru 1:** Bir Calisan sınıfı oluşturun. Bu sınıfın her çalışan için ad, soyad ve maaş bilgilerini tutmasını sağlayın. Ayrıca, maaşı yüzde belirli bir oranda artırmak için maas_artir adında bir fonksiyon oluşturun.\n",
        "\n",
        "Cevap:"
      ],
      "metadata": {
        "id": "XX385bsThcc6"
      }
    },
    {
      "cell_type": "code",
      "execution_count": 9,
      "metadata": {
        "id": "wFX_zz9xgMup",
        "outputId": "d16739ae-2188-4be9-8bdd-ed9ce8449066",
        "colab": {
          "base_uri": "https://localhost:8080/"
        }
      },
      "outputs": [
        {
          "output_type": "stream",
          "name": "stdout",
          "text": [
            "Ahmet Taş maaşı güncellendi: 11000.0 TL\n",
            "Ahmet Taş maaşı güncellendi: 12100.0 TL\n"
          ]
        }
      ],
      "source": [
        "class Calisan:\n",
        "  def __init__(self, ad, soyad, maas):\n",
        "    self.ad = ad\n",
        "    self.soyad = soyad\n",
        "    self.maas = maas\n",
        "  def maas_artir(self, yuzde):\n",
        "    self.maas += self.maas * (yuzde / 100)\n",
        "\n",
        "calisan1 = Calisan(\"Ahmet\", \"Taş\", 10000)\n",
        "\n",
        "calisan1.maas_artir(10)\n",
        "print(calisan1.ad, calisan1.soyad, \"maaşı güncellendi:\",calisan1.maas,\"TL\")\n",
        "\n",
        "calisan1.maas_artir(10)\n",
        "print(calisan1.ad, calisan1.soyad, \"maaşı güncellendi:\",calisan1.maas,\"TL\")"
      ]
    },
    {
      "cell_type": "code",
      "source": [],
      "metadata": {
        "colab": {
          "base_uri": "https://localhost:8080/"
        },
        "id": "kxnru684qx3L",
        "outputId": "3cc65834-7704-438c-faa5-7ee56cd48ef8"
      },
      "execution_count": null,
      "outputs": [
        {
          "output_type": "stream",
          "name": "stdout",
          "text": [
            "Ali Kaya maaşı güncellendi: 5500.0 TL\n"
          ]
        }
      ]
    },
    {
      "cell_type": "markdown",
      "source": [
        "**Soru 2:**  Bir alışveriş sepeti uygulaması için Urun ve Sepet adında iki sınıf tanımlayın. Urun sınıfı, ürün adı ve fiyatını içermelidir.\n",
        "Sepet sınıfı ise, sepete ürün eklemeli ve toplam tutarı hesaplamalıdır.\n",
        "\n",
        "Cevap:"
      ],
      "metadata": {
        "id": "BCB0AW5DhqZT"
      }
    },
    {
      "cell_type": "code",
      "source": [
        "class Urun:\n",
        "  def __init__(self, ad, fiyat):\n",
        "    self.ad = ad\n",
        "    self.fiyat = fiyat\n",
        "\n",
        "class Sepet:\n",
        "  def __init__(self):\n",
        "    self.urunler = []\n",
        "\n",
        "  def urun_ekle(self, urun):\n",
        "    self.urunler.append(urun)\n",
        "    print(f\"{urun.ad} sepete eklendi.\")\n",
        "\n",
        "  def toplam_fiyat(self):\n",
        "    toplam = 0\n",
        "    for urun in self.urunler:\n",
        "      toplam += urun.fiyat\n",
        "    print(f\"Toplam fiyat: {toplam} TL\")\n",
        "\n",
        "urun1 = Urun(\"Kalem\", 10)\n",
        "urun2 = Urun(\"Silgi\", 7)\n",
        "urun3 = Urun(\"Defter\", 15)\n",
        "\n",
        "sepet = Sepet()\n",
        "sepet.urun_ekle(urun1)\n",
        "sepet.urun_ekle(urun2)\n",
        "sepet.urun_ekle(urun3)\n",
        "sepet.toplam_fiyat()"
      ],
      "metadata": {
        "id": "MVFjJdRxhplh",
        "outputId": "d4ac8501-93c5-43a9-8c74-9136232192eb",
        "colab": {
          "base_uri": "https://localhost:8080/"
        }
      },
      "execution_count": 11,
      "outputs": [
        {
          "output_type": "stream",
          "name": "stdout",
          "text": [
            "Kalem sepete eklendi.\n",
            "Silgi sepete eklendi.\n",
            "Defter sepete eklendi.\n",
            "Toplam fiyat: 32 TL\n"
          ]
        }
      ]
    },
    {
      "cell_type": "code",
      "source": [],
      "metadata": {
        "colab": {
          "base_uri": "https://localhost:8080/"
        },
        "id": "vOYzMS69hpuz",
        "outputId": "82006583-8e48-49f0-a953-a97b8198c182"
      },
      "execution_count": null,
      "outputs": [
        {
          "output_type": "stream",
          "name": "stdout",
          "text": [
            "Kitap sepete eklendi.\n",
            "Kalem sepete eklendi.\n",
            "Toplam tutar: 35 TL\n"
          ]
        }
      ]
    },
    {
      "cell_type": "markdown",
      "source": [
        "**Soru 3:** Bir öğrenci yönetim sistemi için Ogrenci ve Ders adlı iki sınıf oluşturun. Ogrenci sınıfı, öğrenci adı ve numarasını içermeli.\n",
        "Ders sınıfı, ders adı ve öğrenci listesini tutmalı, ogrenci_ekle fonksiyonuyla öğrenci ekleyebilmeli.\n",
        "\n",
        "Cevap:"
      ],
      "metadata": {
        "id": "5V_CfOkdiLrF"
      }
    },
    {
      "cell_type": "code",
      "source": [
        "class Ogrenci:\n",
        "  def __init__(self, ad, numara):\n",
        "    self.ad = ad\n",
        "    self.numara = numara\n",
        "\n",
        "class Ders:\n",
        "  def __init__(self, ad):\n",
        "    self.ad = ad\n",
        "    self.ogrenciler = []\n",
        "\n",
        "  def ogrenci_ekle(self, ogrenci):\n",
        "    self.ogrenciler.append(ogrenci)\n",
        "    print(f\"{ogrenci.ad} {self.ad} dersine eklendi.\")\n",
        "\n",
        "  def ogrenci_listesi(self):\n",
        "    print(f\"{self.ad} dersindeki öğrenciler:\")\n",
        "    for ogrenci in self.ogrenciler:\n",
        "      print(f\"- {ogrenci.ad}, No: {ogrenci.numara}\")\n",
        "\n",
        "ogr1 = Ogrenci(\"Arda\", 101)\n",
        "ogr2 = Ogrenci(\"Selim\", 102)\n",
        "\n",
        "ders = Ders(\"Fizik\")\n",
        "ders.ogrenci_ekle(ogr1)\n",
        "ders.ogrenci_ekle(ogr2)\n",
        "ders.ogrenci_listesi()"
      ],
      "metadata": {
        "id": "smThx9hHhpxL",
        "outputId": "0261da62-7721-4499-9436-8a96562ddce6",
        "colab": {
          "base_uri": "https://localhost:8080/"
        }
      },
      "execution_count": 13,
      "outputs": [
        {
          "output_type": "stream",
          "name": "stdout",
          "text": [
            "Arda Fizik dersine eklendi.\n",
            "Selim Fizik dersine eklendi.\n",
            "Fizik dersindeki öğrenciler:\n",
            "- Arda, No: 101\n",
            "- Selim, No: 102\n"
          ]
        }
      ]
    },
    {
      "cell_type": "code",
      "source": [],
      "metadata": {
        "id": "cPlLTbVWhpz2"
      },
      "execution_count": null,
      "outputs": []
    },
    {
      "cell_type": "code",
      "source": [
        "# Kullanım\n",
        "ogrenci1 = Ogrenci(\"Ayşe\", 101)\n",
        "ogrenci2 = Ogrenci(\"Mehmet\", 102)\n",
        "\n",
        "ders = Ders(\"Matematik\")\n",
        "ders.ogrenci_ekle(ogrenci1)\n",
        "ders.ogrenci_ekle(ogrenci2)\n",
        "ders.ogrenci_listesi()"
      ],
      "metadata": {
        "colab": {
          "base_uri": "https://localhost:8080/"
        },
        "id": "aBBL_rQmhp2x",
        "outputId": "ce714c29-3f6c-4dcd-a0f6-3ea8d27f91ef"
      },
      "execution_count": null,
      "outputs": [
        {
          "output_type": "stream",
          "name": "stdout",
          "text": [
            "Ayşe Matematik dersine eklendi.\n",
            "Mehmet Matematik dersine eklendi.\n",
            "Matematik dersindeki öğrenciler:\n",
            "- Ayşe, No: 101\n",
            "- Mehmet, No: 102\n"
          ]
        }
      ]
    },
    {
      "cell_type": "markdown",
      "source": [
        "**Soru 4:** Bir otopark yönetim sistemi geliştirin. Arac sınıfı, aracın plakası ve marka bilgilerini içermelidir. Otopark sınıfı, park edilen araçları tutmalı, arac_park_et fonksiyonuyla araç park edebilmeli ve arac_listesi fonksiyonuyla park edilen araçları listeleyebilmelidir.\n",
        "\n",
        "Cevap:"
      ],
      "metadata": {
        "id": "pfuWwIF-ikP4"
      }
    },
    {
      "cell_type": "code",
      "source": [],
      "metadata": {
        "id": "nJd6Kf_ohp5K"
      },
      "execution_count": null,
      "outputs": []
    },
    {
      "cell_type": "code",
      "source": [],
      "metadata": {
        "id": "_nIwIEiMiuX6"
      },
      "execution_count": null,
      "outputs": []
    },
    {
      "cell_type": "code",
      "source": [],
      "metadata": {
        "colab": {
          "base_uri": "https://localhost:8080/"
        },
        "id": "mNToS898iuaS",
        "outputId": "0dd416b9-5d30-4578-9c39-5c92b6e496ba"
      },
      "execution_count": null,
      "outputs": [
        {
          "output_type": "stream",
          "name": "stdout",
          "text": [
            "34ABC123 plakalı Toyota park edildi.\n",
            "35XYZ789 plakalı Honda park edildi.\n",
            "Park edilen araçlar:\n",
            "- Plaka: 34ABC123, Marka: Toyota\n",
            "- Plaka: 35XYZ789, Marka: Honda\n"
          ]
        }
      ]
    },
    {
      "cell_type": "markdown",
      "source": [
        "**Soru 5:** Bir bankada hesap yönetim sistemi oluşturun. BankaHesabi sınıfı, hesap sahibinin adını ve bakiyesini tutmalı. para_yatir ve para_cek fonksiyonları ile hesap işlemlerini gerçekleştirin. Eğer bakiye yetersizse kullanıcıyı uyaran bir mesaj verin.\n",
        "\n",
        "Cevap:"
      ],
      "metadata": {
        "id": "KK3h1fVdi1-A"
      }
    },
    {
      "cell_type": "code",
      "source": [],
      "metadata": {
        "id": "fB-FMVnEiucx"
      },
      "execution_count": null,
      "outputs": []
    },
    {
      "cell_type": "code",
      "source": [
        "# Kullanım\n",
        "hesap1 = BankaHesabi(\"Zeynep\", 1000)\n",
        "                        # 200 TL yatırıldı. Güncel bakiye: 1200 TL\n",
        "                        # 500 TL çekildi. Güncel bakiye: 700 TL\n",
        "                        # Yetersiz bakiye. Mevcut bakiye: 700 TL"
      ],
      "metadata": {
        "colab": {
          "base_uri": "https://localhost:8080/"
        },
        "id": "hL_5gpxTiufW",
        "outputId": "4876925d-1277-41d2-930e-347092a1107b"
      },
      "execution_count": null,
      "outputs": [
        {
          "output_type": "stream",
          "name": "stdout",
          "text": [
            "200 TL yatırıldı. Güncel bakiye: 1200 TL\n",
            "500 TL çekildi. Güncel bakiye: 700 TL\n",
            "Yetersiz bakiye. Mevcut bakiye: 700 TL\n"
          ]
        }
      ]
    },
    {
      "cell_type": "markdown",
      "source": [
        "**Soru 6:** Bir kütüphane yönetim sistemi geliştirin. Bu sistemde, kitapları yönetmek ve üyelerin ödünç alıp verme işlemlerini takip etmek için Kitap ve Kutuphane adında iki sınıf oluşturun.\n",
        "\n",
        "Kitap sınıfı:\n",
        "*   Kitabın adını ve mevcut stok miktarını tutmalıdır.\n",
        "*   **stok_guncelle** adlı bir fonksiyonla stokları güncelleyebilmelidir.\n",
        "\n",
        "Kutuphane sınıfı:\n",
        "*   Birden fazla kitabı yönetmek için bir kitaplar listesi içermelidir.\n",
        "*   **kitap_ekle** fonksiyonuyla kütüphaneye yeni bir kitap ekleyebilmelidir.\n",
        "*   **odunc_al** fonksiyonuyla bir üyeye kitap ödünç vermelidir. Eğer kitap stokta yoksa, kullanıcıya uygun bir mesaj vermelidir.\n",
        "*   **geri_ver** fonksiyonuyla ödünç alınan bir kitabı geri almalıdır.\n",
        "*   **stok_goruntule** fonksiyonuyla kütüphanedeki kitapların mevcut stok durumunu listelemelidir.\n",
        "\n",
        "Cevap:"
      ],
      "metadata": {
        "id": "R3z0DTlKjKcP"
      }
    },
    {
      "cell_type": "code",
      "source": [],
      "metadata": {
        "id": "Pz4hHgWyiuhh"
      },
      "execution_count": null,
      "outputs": []
    },
    {
      "cell_type": "code",
      "source": [],
      "metadata": {
        "id": "qfMpurEOkI91"
      },
      "execution_count": null,
      "outputs": []
    },
    {
      "cell_type": "code",
      "source": [],
      "metadata": {
        "colab": {
          "base_uri": "https://localhost:8080/"
        },
        "id": "j-RidKrxkJAe",
        "outputId": "30693d94-7345-40d6-deff-b36cb54886ff"
      },
      "execution_count": null,
      "outputs": [
        {
          "output_type": "stream",
          "name": "stdout",
          "text": [
            "Python Programlama kütüphaneye eklendi.\n",
            "Veri Bilimi kütüphaneye eklendi.\n",
            "Makine Öğrenimi kütüphaneye eklendi.\n"
          ]
        }
      ]
    },
    {
      "cell_type": "code",
      "source": [
        "# Stok durumunu görüntüle\n",
        "\n",
        "\n",
        "\n",
        "# Kitap ödünç alma işlemleri\n",
        "                                          # Stok: 4 olacak\n",
        "                                          # Stokta yok uyarısı verecek\n",
        "                                          # Stok: 2 olacak\n",
        "\n",
        "# Kitap geri verme işlemi\n",
        "\n",
        "                                          # Stok: 5 olacak\n",
        "\n",
        "# Güncel stok durumunu tekrar görüntüle\n",
        "\n"
      ],
      "metadata": {
        "colab": {
          "base_uri": "https://localhost:8080/"
        },
        "id": "uJQBz0ddkJCn",
        "outputId": "587bc42d-d079-4230-c66c-601efdc371c5"
      },
      "execution_count": null,
      "outputs": [
        {
          "output_type": "stream",
          "name": "stdout",
          "text": [
            "Kütüphanedeki kitapların stok durumu:\n",
            "- Python Programlama: 5 adet\n",
            "- Veri Bilimi: 3 adet\n",
            "- Makine Öğrenimi: 0 adet\n",
            "Python Programlama kitabı ödünç alındı. Kalan stok: 4\n",
            "Makine Öğrenimi kitabı şu anda stokta yok.\n",
            "Veri Bilimi kitabı ödünç alındı. Kalan stok: 2\n",
            "Python Programlama kitabı geri verildi. Güncel stok: 5\n",
            "Kütüphanedeki kitapların stok durumu:\n",
            "- Python Programlama: 5 adet\n",
            "- Veri Bilimi: 2 adet\n",
            "- Makine Öğrenimi: 0 adet\n"
          ]
        }
      ]
    },
    {
      "cell_type": "markdown",
      "source": [
        "**Soru 7:** Bir e-ticaret uygulaması için bir alışveriş sepeti yönetim sistemi geliştirin. Bu sistemde, ürünlerin ve sepetin yönetimini sağlayan iki ana sınıf olacak: Urun ve Sepet.\n",
        "\n",
        "İstenen İşlevler:\n",
        "\n",
        "Urun sınıfı:\n",
        "*   Her ürünün bir adı, fiyatı ve stok miktarı olmalıdır.\n",
        "*   Stok güncellemek için **stok_guncelle** adlı bir fonksiyon içermelidir.\n",
        "\n",
        "Sepet sınıfı:\n",
        "\n",
        "*   Bir urunler listesi içermelidir, bu listede kullanıcı tarafından sepete eklenen ürünler ve miktarları olmalıdır.\n",
        "*   **urun_ekle** fonksiyonuyla sepete yeni bir ürün ekleyebilmelidir. Eklenmek istenen miktar stoktan fazla ise uygun bir mesaj vermelidir.\n",
        "*   **urun_sil** fonksiyonuyla sepetten bir ürünü çıkarabilmelidir.\n",
        "*   **toplam_fiyat** fonksiyonuyla sepetteki tüm ürünlerin toplam fiyatını hesaplayıp döndürmelidir.\n",
        "*   **sepet_goruntule** fonksiyonuyla sepetteki ürünleri ve her birinin miktarını listelemelidir.\n",
        "\n",
        "Çözüm:"
      ],
      "metadata": {
        "id": "GO_HWM1ukupF"
      }
    },
    {
      "cell_type": "code",
      "source": [],
      "metadata": {
        "id": "VmGUkhEmkJE-"
      },
      "execution_count": null,
      "outputs": []
    },
    {
      "cell_type": "code",
      "source": [],
      "metadata": {
        "id": "9e6r4ku_lQki"
      },
      "execution_count": null,
      "outputs": []
    },
    {
      "cell_type": "code",
      "source": [
        "# Ürünleri oluşturalım\n",
        "\n",
        "\n",
        "\n",
        "# Sepeti oluşturalım\n",
        "\n",
        "\n"
      ],
      "metadata": {
        "id": "hFhcz0TplQwr"
      },
      "execution_count": null,
      "outputs": []
    },
    {
      "cell_type": "code",
      "source": [
        "# Ürünleri sepete ekleyelim\n",
        "                              # Bilgisayar eklenir\n",
        "                              # Telefon eklenir\n",
        "                              # Kulaklık eklenir\n",
        "                              # Yetersiz stok uyarısı verir\n",
        "\n",
        "# Sepeti görüntüleyelim\n",
        "\n"
      ],
      "metadata": {
        "colab": {
          "base_uri": "https://localhost:8080/"
        },
        "id": "kJxJsDt2lXyC",
        "outputId": "ab321075-2db1-4ce1-93e9-b21099c8a817"
      },
      "execution_count": null,
      "outputs": [
        {
          "output_type": "stream",
          "name": "stdout",
          "text": [
            "2 adet Bilgisayar sepete eklendi.\n",
            "1 adet Telefon sepete eklendi.\n",
            "3 adet Kulaklık sepete eklendi.\n",
            "Kulaklık stokta yeterli değil. Mevcut stok: 17\n",
            "Sepetinizdeki ürünler:\n",
            "- Bilgisayar: 2 adet, Fiyat: 15000 TL\n",
            "- Telefon: 1 adet, Fiyat: 8000 TL\n",
            "- Kulaklık: 3 adet, Fiyat: 500 TL\n",
            "Toplam Fiyat: 39500 TL\n"
          ]
        }
      ]
    },
    {
      "cell_type": "code",
      "source": [
        "# Sepetten bir ürün çıkaralım\n",
        "\n",
        "\n",
        "# Güncel sepet durumunu görüntüleyelim\n",
        "\n"
      ],
      "metadata": {
        "colab": {
          "base_uri": "https://localhost:8080/"
        },
        "id": "M1KMCx-1lad6",
        "outputId": "29b53e93-a550-4357-d317-8dd9ef8b3143"
      },
      "execution_count": null,
      "outputs": [
        {
          "output_type": "stream",
          "name": "stdout",
          "text": [
            "1 adet Telefon sepetten çıkarıldı.\n",
            "Sepetinizdeki ürünler:\n",
            "- Bilgisayar: 2 adet, Fiyat: 15000 TL\n",
            "- Kulaklık: 3 adet, Fiyat: 500 TL\n",
            "Toplam Fiyat: 31500 TL\n"
          ]
        }
      ]
    }
  ]
}